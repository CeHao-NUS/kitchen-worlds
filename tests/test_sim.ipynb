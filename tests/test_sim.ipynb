{
 "cells": [
  {
   "cell_type": "code",
   "execution_count": 1,
   "id": "a33837c4",
   "metadata": {},
   "outputs": [
    {
     "name": "stdout",
     "output_type": "stream",
     "text": [
      "Requirement already satisfied: pybullet in /home/yang/miniconda3/envs/fastamp_kitchen/lib/python3.8/site-packages (3.2.5)\n",
      "Requirement already satisfied: setuptools_scm in /home/yang/miniconda3/envs/fastamp_kitchen/lib/python3.8/site-packages (7.0.5)\n",
      "Requirement already satisfied: trimesh in /home/yang/miniconda3/envs/fastamp_kitchen/lib/python3.8/site-packages (3.15.2)\n",
      "Requirement already satisfied: untangle in /home/yang/miniconda3/envs/fastamp_kitchen/lib/python3.8/site-packages (1.2.1)\n",
      "Collecting pyglet\n",
      "  Downloading pyglet-2.0.5-py3-none-any.whl (831 kB)\n",
      "\u001B[2K     \u001B[38;2;114;156;31m━━━━━━━━━━━━━━━━━━━━━━━━━━━━━━━━━━━━━━\u001B[0m \u001B[32m831.3/831.3 kB\u001B[0m \u001B[31m21.6 MB/s\u001B[0m eta \u001B[36m0:00:00\u001B[0mm eta \u001B[36m0:00:01\u001B[0m\n",
      "\u001B[?25hCollecting yourdfpy\n",
      "  Downloading yourdfpy-0.0.53-py3-none-any.whl (22 kB)\n",
      "Requirement already satisfied: tomli>=1.0.0 in /home/yang/miniconda3/envs/fastamp_kitchen/lib/python3.8/site-packages (from setuptools_scm) (2.0.1)\n",
      "Requirement already satisfied: setuptools in /home/yang/miniconda3/envs/fastamp_kitchen/lib/python3.8/site-packages (from setuptools_scm) (63.4.1)\n",
      "Requirement already satisfied: typing-extensions in /home/yang/miniconda3/envs/fastamp_kitchen/lib/python3.8/site-packages (from setuptools_scm) (4.3.0)\n",
      "Requirement already satisfied: packaging>=20.0 in /home/yang/miniconda3/envs/fastamp_kitchen/lib/python3.8/site-packages (from setuptools_scm) (21.3)\n",
      "Requirement already satisfied: numpy in /home/yang/miniconda3/envs/fastamp_kitchen/lib/python3.8/site-packages (from trimesh) (1.23.1)\n",
      "Requirement already satisfied: defusedxml<0.8.0,>=0.7.1 in /home/yang/miniconda3/envs/fastamp_kitchen/lib/python3.8/site-packages (from untangle) (0.7.1)\n",
      "Collecting lxml\n",
      "  Downloading lxml-4.9.2-cp38-cp38-manylinux_2_17_x86_64.manylinux2014_x86_64.manylinux_2_24_x86_64.whl (7.1 MB)\n",
      "\u001B[2K     \u001B[38;2;114;156;31m━━━━━━━━━━━━━━━━━━━━━━━━━━━━━━━━━━━━━━━━\u001B[0m \u001B[32m7.1/7.1 MB\u001B[0m \u001B[31m52.3 MB/s\u001B[0m eta \u001B[36m0:00:00\u001B[0m MB/s\u001B[0m eta \u001B[36m0:00:01\u001B[0m:01\u001B[0m\n",
      "\u001B[?25hRequirement already satisfied: six in /home/yang/miniconda3/envs/fastamp_kitchen/lib/python3.8/site-packages (from yourdfpy) (1.16.0)\n",
      "Requirement already satisfied: pyparsing!=3.0.5,>=2.0.2 in /home/yang/miniconda3/envs/fastamp_kitchen/lib/python3.8/site-packages (from packaging>=20.0->setuptools_scm) (3.0.9)\n",
      "Requirement already satisfied: requests in /home/yang/miniconda3/envs/fastamp_kitchen/lib/python3.8/site-packages (from trimesh) (2.28.1)\n",
      "Requirement already satisfied: scipy in /home/yang/miniconda3/envs/fastamp_kitchen/lib/python3.8/site-packages (from trimesh) (1.9.1)\n",
      "Collecting shapely\n",
      "  Downloading shapely-2.0.1-cp38-cp38-manylinux_2_17_x86_64.manylinux2014_x86_64.whl (2.3 MB)\n",
      "\u001B[2K     \u001B[38;2;114;156;31m━━━━━━━━━━━━━━━━━━━━━━━━━━━━━━━━━━━━━━━━\u001B[0m \u001B[32m2.3/2.3 MB\u001B[0m \u001B[31m45.5 MB/s\u001B[0m eta \u001B[36m0:00:00\u001B[0mm eta \u001B[36m0:00:01\u001B[0m\n",
      "\u001B[?25hCollecting mapbox-earcut\n",
      "  Using cached mapbox_earcut-1.0.1-cp38-cp38-manylinux_2_17_x86_64.manylinux2014_x86_64.whl (104 kB)\n",
      "Collecting svg.path\n",
      "  Using cached svg.path-6.2-py2.py3-none-any.whl (40 kB)\n",
      "Collecting rtree\n",
      "  Using cached Rtree-1.0.1-cp38-cp38-manylinux_2_17_x86_64.manylinux2014_x86_64.whl (1.0 MB)\n",
      "Collecting pycollada\n",
      "  Using cached pycollada-0.7.2-py3-none-any.whl\n",
      "Collecting xxhash\n",
      "  Downloading xxhash-3.2.0-cp38-cp38-manylinux_2_17_x86_64.manylinux2014_x86_64.whl (213 kB)\n",
      "\u001B[2K     \u001B[38;2;114;156;31m━━━━━━━━━━━━━━━━━━━━━━━━━━━━━━━━━━━━━━\u001B[0m \u001B[32m213.0/213.0 kB\u001B[0m \u001B[31m26.5 MB/s\u001B[0m eta \u001B[36m0:00:00\u001B[0m\n",
      "\u001B[?25hRequirement already satisfied: jsonschema in /home/yang/miniconda3/envs/fastamp_kitchen/lib/python3.8/site-packages (from trimesh) (4.17.3)\n",
      "Collecting networkx\n",
      "  Downloading networkx-3.0-py3-none-any.whl (2.0 MB)\n",
      "\u001B[2K     \u001B[38;2;114;156;31m━━━━━━━━━━━━━━━━━━━━━━━━━━━━━━━━━━━━━━━━\u001B[0m \u001B[32m2.0/2.0 MB\u001B[0m \u001B[31m56.8 MB/s\u001B[0m eta \u001B[36m0:00:00\u001B[0mm eta \u001B[36m0:00:01\u001B[0m\n",
      "\u001B[?25hRequirement already satisfied: sympy in /home/yang/miniconda3/envs/fastamp_kitchen/lib/python3.8/site-packages (from trimesh) (1.11.1)\n",
      "Collecting chardet\n",
      "  Using cached chardet-5.1.0-py3-none-any.whl (199 kB)\n",
      "Requirement already satisfied: pillow in /home/yang/miniconda3/envs/fastamp_kitchen/lib/python3.8/site-packages (from trimesh) (9.2.0)\n",
      "Collecting colorlog\n",
      "  Using cached colorlog-6.7.0-py2.py3-none-any.whl (11 kB)\n",
      "Collecting msgpack\n",
      "  Downloading msgpack-1.0.5-cp38-cp38-manylinux_2_17_x86_64.manylinux2014_x86_64.whl (322 kB)\n",
      "\u001B[2K     \u001B[38;2;114;156;31m━━━━━━━━━━━━━━━━━━━━━━━━━━━━━━━━━━━━━━\u001B[0m \u001B[32m322.4/322.4 kB\u001B[0m \u001B[31m27.1 MB/s\u001B[0m eta \u001B[36m0:00:00\u001B[0m\n",
      "\u001B[?25hRequirement already satisfied: importlib-resources>=1.4.0 in /home/yang/miniconda3/envs/fastamp_kitchen/lib/python3.8/site-packages (from jsonschema->trimesh) (5.12.0)\n",
      "Requirement already satisfied: pyrsistent!=0.17.0,!=0.17.1,!=0.17.2,>=0.14.0 in /home/yang/miniconda3/envs/fastamp_kitchen/lib/python3.8/site-packages (from jsonschema->trimesh) (0.19.3)\n",
      "Requirement already satisfied: attrs>=17.4.0 in /home/yang/miniconda3/envs/fastamp_kitchen/lib/python3.8/site-packages (from jsonschema->trimesh) (22.2.0)\n",
      "Requirement already satisfied: pkgutil-resolve-name>=1.3.10 in /home/yang/miniconda3/envs/fastamp_kitchen/lib/python3.8/site-packages (from jsonschema->trimesh) (1.3.10)\n",
      "Requirement already satisfied: python-dateutil>=2.2 in /home/yang/miniconda3/envs/fastamp_kitchen/lib/python3.8/site-packages (from pycollada->trimesh) (2.8.2)\n",
      "Requirement already satisfied: urllib3<1.27,>=1.21.1 in /home/yang/miniconda3/envs/fastamp_kitchen/lib/python3.8/site-packages (from requests->trimesh) (1.26.12)\n",
      "Requirement already satisfied: certifi>=2017.4.17 in /home/yang/miniconda3/envs/fastamp_kitchen/lib/python3.8/site-packages (from requests->trimesh) (2022.9.14)\n",
      "Requirement already satisfied: idna<4,>=2.5 in /home/yang/miniconda3/envs/fastamp_kitchen/lib/python3.8/site-packages (from requests->trimesh) (3.3)\n",
      "Requirement already satisfied: charset-normalizer<3,>=2 in /home/yang/miniconda3/envs/fastamp_kitchen/lib/python3.8/site-packages (from requests->trimesh) (2.1.1)\n",
      "Requirement already satisfied: mpmath>=0.19 in /home/yang/miniconda3/envs/fastamp_kitchen/lib/python3.8/site-packages (from sympy->trimesh) (1.3.0)\n",
      "Requirement already satisfied: zipp>=3.1.0 in /home/yang/miniconda3/envs/fastamp_kitchen/lib/python3.8/site-packages (from importlib-resources>=1.4.0->jsonschema->trimesh) (3.15.0)\n",
      "Installing collected packages: svg.path, pyglet, msgpack, xxhash, shapely, rtree, networkx, mapbox-earcut, lxml, colorlog, chardet, pycollada, yourdfpy\n",
      "Successfully installed chardet-5.1.0 colorlog-6.7.0 lxml-4.9.2 mapbox-earcut-1.0.1 msgpack-1.0.5 networkx-3.0 pycollada-0.7.2 pyglet-2.0.5 rtree-1.0.1 shapely-2.0.1 svg.path-6.2 xxhash-3.2.0 yourdfpy-0.0.53\n"
     ]
    },
    {
     "ename": "ModuleNotFoundError",
     "evalue": "No module named 'omni.isaac'",
     "output_type": "error",
     "traceback": [
      "\u001B[0;31m---------------------------------------------------------------------------\u001B[0m",
      "\u001B[0;31mModuleNotFoundError\u001B[0m                       Traceback (most recent call last)",
      "Input \u001B[0;32mIn [1]\u001B[0m, in \u001B[0;36m<cell line: 17>\u001B[0;34m()\u001B[0m\n\u001B[1;32m     14\u001B[0m     sys\u001B[38;5;241m.\u001B[39mpath\u001B[38;5;241m.\u001B[39mremove(problematic)\n\u001B[1;32m     15\u001B[0m     \u001B[38;5;28mprint\u001B[39m(\u001B[38;5;124m'\u001B[39m\u001B[38;5;130;01m\\t\u001B[39;00m\u001B[38;5;124m\"\u001B[39m\u001B[38;5;124m'\u001B[39m\u001B[38;5;241m+\u001B[39m\u001B[38;5;124m'\u001B[39m\u001B[38;5;124m\"\u001B[39m\u001B[38;5;124m,\u001B[39m\u001B[38;5;130;01m\\n\u001B[39;00m\u001B[38;5;130;01m\\t\u001B[39;00m\u001B[38;5;124m\"\u001B[39m\u001B[38;5;124m'\u001B[39m\u001B[38;5;241m.\u001B[39mjoin([\u001B[38;5;28mstr\u001B[39m(s) \u001B[38;5;28;01mfor\u001B[39;00m s \u001B[38;5;129;01min\u001B[39;00m sys\u001B[38;5;241m.\u001B[39mpath \u001B[38;5;28;01mif\u001B[39;00m \u001B[38;5;124m'\u001B[39m\u001B[38;5;124misaac\u001B[39m\u001B[38;5;124m'\u001B[39m \u001B[38;5;129;01mnot\u001B[39;00m \u001B[38;5;129;01min\u001B[39;00m s])\u001B[38;5;241m+\u001B[39m\u001B[38;5;124m'\u001B[39m\u001B[38;5;124m\"\u001B[39m\u001B[38;5;124m'\u001B[39m)\n\u001B[0;32m---> 17\u001B[0m \u001B[38;5;28;01mfrom\u001B[39;00m \u001B[38;5;21;01momni\u001B[39;00m\u001B[38;5;21;01m.\u001B[39;00m\u001B[38;5;21;01misaac\u001B[39;00m\u001B[38;5;21;01m.\u001B[39;00m\u001B[38;5;21;01mkit\u001B[39;00m \u001B[38;5;28;01mimport\u001B[39;00m SimulationApp\n\u001B[1;32m     18\u001B[0m SIMULATION_APP \u001B[38;5;241m=\u001B[39m SimulationApp(launch_config\u001B[38;5;241m=\u001B[39m{\n\u001B[1;32m     19\u001B[0m     \u001B[38;5;124m\"\u001B[39m\u001B[38;5;124mheadless\u001B[39m\u001B[38;5;124m\"\u001B[39m: \u001B[38;5;28;01mFalse\u001B[39;00m,\n\u001B[1;32m     20\u001B[0m })\n\u001B[1;32m     22\u001B[0m \u001B[38;5;28;01mfrom\u001B[39;00m \u001B[38;5;21;01mpybullet_planning\u001B[39;00m\u001B[38;5;21;01m.\u001B[39;00m\u001B[38;5;21;01mpybullet_tools\u001B[39;00m\u001B[38;5;21;01m.\u001B[39;00m\u001B[38;5;21;01mutils\u001B[39;00m \u001B[38;5;28;01mimport\u001B[39;00m pose_from_tform\n",
      "\u001B[0;31mModuleNotFoundError\u001B[0m: No module named 'omni.isaac'"
     ]
    }
   ],
   "source": [
    "!python3 -m pip install pybullet setuptools_scm trimesh untangle pyglet yourdfpy\n",
    "\n",
    "import sys\n",
    "import os\n",
    "sys.path.extend([\n",
    "    # '/home/yang/playgroung/srl/src',\n",
    "    '/home/yang/Documents/jupyter-worlds',\n",
    "    '/home/yang/Documents/jupyter-worlds/tests',\n",
    "    '/home/yang/Documents/playground/srl_stream/src',\n",
    "    '/home/yang/Documents/playground/scene_synthesizer/src',\n",
    "])\n",
    "problematic = \"/home/yang/miniconda3/envs/kitchen/lib/python3.8/site-packages\"\n",
    "if problematic in sys.path:\n",
    "    sys.path.remove(problematic)\n",
    "    print('\\t\"'+'\",\\n\\t\"'.join([str(s) for s in sys.path if 'isaac' not in s])+'\"')\n",
    "\n",
    "from omni.isaac.kit import SimulationApp\n",
    "SIMULATION_APP = SimulationApp(launch_config={\n",
    "    \"headless\": False,\n",
    "})\n",
    "    \n",
    "from pybullet_planning.pybullet_tools.utils import pose_from_tform\n",
    "\n",
    "from utils import load_lisdf, test_is_robot\n",
    "from srl_stream.sim_world import SimEnv\n",
    "from srl_stream.sim_utils import convert_urdf, set_prim_pose\n",
    "# from srl.math.transform import Transform\n",
    "from scene_synthesizer.exchange.usd_export import add_light\n",
    "\n",
    "def load_lisdf_isaacsim(lisdf_dir, robots=True, **kwargs):\n",
    "    \n",
    "    env = SimEnv(SIMULATION_APP, usd_path=None)\n",
    "    env.add_ground(z=0.)\n",
    "    add_light(env.stage, scene_path='/Light',\n",
    "              # transform=Transform.from_translation([0, 0, 10]),\n",
    "              radius=1, intensity=300000)\n",
    "\n",
    "    for name, path, scale, is_fixed, tform in load_lisdf(lisdf_dir, robots=robots, **kwargs):\n",
    "        prim_path = f'/{name}'\n",
    "        prim_path = convert_urdf(path, dest_path=prim_path, merge=False, decomposition=False) ## scale=scale,\n",
    "        print(prim_path)\n",
    "        set_prim_pose(prim_path, pose_from_tform(tform))\n",
    "    env.wait_if_gui()\n",
    "\n",
    "\n",
    "if __name__ == \"__main__\":\n",
    "    lisdf_dir = '/home/caelan/Programs/interns/yang/kitchen-worlds/test_cases/tt_one_fridge_pick_2'\n",
    "    lisdf_dir = '/home/yang/Documents/fastamp-data/tt_two_fridge_in/4'\n",
    "    load_lisdf_isaacsim(os.path.abspath(lisdf_dir))\n"
   ]
  },
  {
   "cell_type": "code",
   "execution_count": 1,
   "id": "3acc36a3",
   "metadata": {},
   "outputs": [],
   "source": [
    "from omni.isaac.kit import SimulationApp"
   ]
  },
  {
   "cell_type": "code",
   "execution_count": 13,
   "id": "0c3c523a",
   "metadata": {},
   "outputs": [
    {
     "name": "stdout",
     "output_type": "stream",
     "text": [
      "\t\"/home/yang\",\n",
      "\t\"/home/yang/.local/share\",\n",
      "\t\"\",\n",
      "\t\"/home/yang/.ipython\",\n",
      "\t\"/home/yang/Documents/jupyter-worlds\",\n",
      "\t\"/home/yang/Documents/playground/srl_stream/src\",\n",
      "\t\"/home/yang/Documents/playground/SRL/scene_synthesizer/src\",\n",
      "\t\"/home/yang/miniconda3/envs/kitchen/lib/python3.8/site-packages\",\n",
      "\t\"/home/yang/Documents/jupyter-worlds\",\n",
      "\t\"/home/yang/Documents/playground/srl_stream/src\",\n",
      "\t\"/home/yang/Documents/playground/SRL/scene_synthesizer/src\",\n",
      "\t\"/home/yang/miniconda3/envs/kitchen/lib/python3.8/site-packages\",\n",
      "\t\"/home/yang/Documents/jupyter-worlds\",\n",
      "\t\"/home/yang/Documents/playground/srl_stream/src\",\n",
      "\t\"/home/yang/Documents/playground/SRL/scene_synthesizer/src\",\n",
      "\t\"/home/yang/Documents/jupyter-worlds\",\n",
      "\t\"/home/yang/Documents/playground/srl_stream/src\",\n",
      "\t\"/home/yang/Documents/playground/SRL/scene_synthesizer/src\",\n",
      "\t\"/home/yang/Documents/jupyter-worlds/pybullet_planning/pybullet_tools/../motion\",\n",
      "\t\"/home/yang/Documents/jupyter-worlds\",\n",
      "\t\"/home/yang/Documents/playground/srl_stream/src\",\n",
      "\t\"/home/yang/Documents/playground/SRL/scene_synthesizer/src\",\n",
      "\t\"/home/yang/Documents/jupyter-worlds\",\n",
      "\t\"/home/yang/Documents/jupyter-worlds/tests\",\n",
      "\t\"/home/yang/Documents/playground/srl_stream/src\",\n",
      "\t\"/home/yang/Documents/playground/SRL/scene_synthesizer/src\",\n",
      "\t\"/home/yang/Documents/jupyter-worlds\",\n",
      "\t\"/home/yang/Documents/jupyter-worlds/tests\",\n",
      "\t\"/home/yang/Documents/playground/srl_stream/src\",\n",
      "\t\"/home/yang/Documents/playground/SRL/scene_synthesizer/src\",\n",
      "\t\"/home/yang/Documents/jupyter-worlds\",\n",
      "\t\"/home/yang/Documents/jupyter-worlds/tests\",\n",
      "\t\"/home/yang/Documents/playground/srl_stream/src\",\n",
      "\t\"/home/yang/Documents/playground/SRL/scene_synthesizer/src\"\n"
     ]
    }
   ],
   "source": [
    "import sys\n",
    "print('\\t\"'+'\",\\n\\t\"'.join([str(s) for s in sys.path if 'isaac' not in s])+'\"')"
   ]
  },
  {
   "cell_type": "code",
   "execution_count": 6,
   "id": "f931dfab",
   "metadata": {},
   "outputs": [
    {
     "name": "stdout",
     "output_type": "stream",
     "text": [
      "Collecting pybullet\n",
      "  Using cached pybullet-3.2.5-cp37-cp37m-manylinux_2_5_x86_64.manylinux1_x86_64.whl (91.7 MB)\n",
      "Installing collected packages: pybullet\n",
      "Successfully installed pybullet-3.2.5\n",
      "\u001B[33mWARNING: You are using pip version 21.2.1+nv1; however, version 22.2.2 is available.\n",
      "You should consider upgrading via the '/home/yang/.local/share/ov/pkg/isaac_sim-2022.1.1/kit/python/bin/python3 -m pip install --upgrade pip' command.\u001B[0m\n"
     ]
    },
    {
     "name": "stderr",
     "output_type": "stream",
     "text": [
      "pybullet build time: May 20 2022 19:43:01\n"
     ]
    }
   ],
   "source": [
    "!python3 -m pip install pybullet\n",
    "import pybullet as p"
   ]
  },
  {
   "cell_type": "code",
   "execution_count": null,
   "id": "4083223a",
   "metadata": {},
   "outputs": [],
   "source": []
  }
 ],
 "metadata": {
  "kernelspec": {
   "display_name": "Python 3 (ipykernel)",
   "language": "python",
   "name": "python3"
  },
  "language_info": {
   "codemirror_mode": {
    "name": "ipython",
    "version": 3
   },
   "file_extension": ".py",
   "mimetype": "text/x-python",
   "name": "python",
   "nbconvert_exporter": "python",
   "pygments_lexer": "ipython3",
   "version": "3.8.13"
  }
 },
 "nbformat": 4,
 "nbformat_minor": 5
}
